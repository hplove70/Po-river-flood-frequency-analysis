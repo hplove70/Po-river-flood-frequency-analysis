{
  "nbformat": 4,
  "nbformat_minor": 0,
  "metadata": {
    "colab": {
      "provenance": []
    },
    "kernelspec": {
      "name": "python3",
      "display_name": "Python 3"
    },
    "language_info": {
      "name": "python"
    }
  },
  "cells": [
    {
      "cell_type": "code",
      "execution_count": null,
      "metadata": {
        "id": "W9iBYgm6mWH4"
      },
      "outputs": [],
      "source": [
        "#Installing and importing needed libraries\n",
        "import os\n",
        "import skextremes as ske\n",
        "import pandas as pd\n",
        "import xarray as xr\n",
        "import numpy as np\n",
        "import matplotlib.pyplot as plt\n",
        "from io import StringIO\n",
        "\n",
        "!pip install git+https://github.com/OpenHydrology/lmoments3.git\n",
        "\n",
        "!git clone https://github.com/kikocorreoso/scikit-extremes.git\n",
        "\n",
        "os.chdir('/content/scikit-extremes')\n",
        "\n",
        "!cd /content/scikit-extremes\n",
        "!pwd\n",
        "\n",
        "!pip install -e .\n"
      ]
    },
    {
      "cell_type": "code",
      "source": [
        "from google.colab import drive\n",
        "drive.mount('/content/drive')"
      ],
      "metadata": {
        "colab": {
          "base_uri": "https://localhost:8080/"
        },
        "id": "WYfrDuT7EYms",
        "outputId": "bac41a4b-375b-4c31-eaca-171d6af9eb55"
      },
      "execution_count": null,
      "outputs": [
        {
          "output_type": "stream",
          "name": "stdout",
          "text": [
            "Mounted at /content/drive\n"
          ]
        }
      ]
    },
    {
      "cell_type": "code",
      "source": [
        "# The path of different datasets, including bankfull_width, Po river simulated discharges, and observed discharches\n",
        "\n",
        "bankfull_width_dir='/content/drive/MyDrive/bankfull_width.nc'\n",
        "discharge_dir='/content/drive/MyDrive/discharge_dailyTot_output.nc'\n",
        "databaseQmax_Po_dir='/content/drive/MyDrive/databaseQmax_Po.dat'\n"
      ],
      "metadata": {
        "id": "xcY_5eh5mj4e"
      },
      "execution_count": null,
      "outputs": []
    },
    {
      "cell_type": "code",
      "source": [
        "# Creating different dataframes \n",
        "ds1=xr.open_dataset(discharge_dir)\n",
        "df1=ds1.to_dataframe()\n",
        "\n",
        "ds2=xr.open_dataset(bankfull_width_dir)\n",
        "df2=ds2.to_dataframe()\n",
        "\n",
        "\n",
        "\n",
        "with open(databaseQmax_Po_dir, 'r') as reading:\n",
        "    my_string = reading.read()\n",
        "buffer = StringIO(my_string)\n",
        "qmax_observations = pd.read_csv(buffer, sep=\" \")\n",
        "\n",
        "# Selecting desired columns(or desired stream gauges) and the desired interval for later comparison (2000-2010)\n",
        "qmax_observations=qmax_observations[qmax_observations['codice'].isin(['B102' ,'B097' ,'B052','B047'])][['codice' ,'a','QC']]\n",
        "qmax_observations_2000_2010=qmax_observations[qmax_observations['a'].between(2000,2010)]\n",
        "qmax_observations_2000_2010=qmax_observations_2000_2010.pivot_table(index='a' , columns='codice' , values='QC')\n",
        "qmax_observations_2000_2010.index\n",
        "\n",
        "# Renaming the desired columns to the real stream gauge names\n",
        "qmax_observations_2000_2010.rename(columns={'B047' : 'CREMONA' , 'B052' : 'FICAROLO' , 'B097': 'SERMIDE' , 'B102' : 'SPESSA'} , inplace=True)\n",
        "\n",
        "\n",
        "df1 = df1.reset_index()\n",
        "df1 = df1.pivot_table(index=['lat' , 'lon'], \n",
        "                     columns=pd.Grouper(freq='A', key='time'),  \n",
        "                     aggfunc='max', \n",
        "                     values='discharge',\n",
        "                     fill_value=0)\n",
        "# Joining the simulated dischrges and the bankfull width to extract the cells with bankful greater than 50\n",
        "df3=df1.join(df2)\n",
        "river_mask=df3.loc[lambda df: df['bankfull_width_map'] > 50, :]\n",
        "river_mask.drop('bankfull_width_map' , axis=1 , inplace=True)\n",
        "\n",
        "# Tuning(re-sacaling) the simulated discharge for each cell relative to the real contributing area\n",
        "for col in river_mask.columns :\n",
        "  river_mask[col]=river_mask[col]*2.15\n",
        "\n",
        "# Selecting the desired cells for comparison with the existing stream gauges\n",
        "selected_cells_list=[(45.125 , 9.875) , (44.95833206176758,11.375) ,(45.04166793823242, 11.125),  (45.125 , 9.375) ]\n",
        "selected_cells=river_mask.loc[selected_cells_list]\n",
        "b=selected_cells.T\n",
        "\n",
        "# Plotting the observed discharges and simulated ones \n",
        "for i in range(0,4) :\n",
        "   fig = plt.figure()\n",
        "   plt.plot(b.index , qmax_observations_2000_2010[qmax_observations_2000_2010.columns[i]] , label=qmax_observations_2000_2010.columns[i])\n",
        "   plt.plot(b[b.columns[i]] , label= b.columns[i])\n",
        "   plt.legend()\n",
        "   plt.xlabel('year')\n",
        "   plt.ylabel('discharges(m3/s)')\n",
        "   plt.title('Annual maximum discharge')\n",
        "plt.show()\n",
        "\n",
        "\n",
        "river_mask = pd.DataFrame(np.sort(river_mask.to_numpy(), axis=1), river_mask.index, river_mask.columns)\n"
      ],
      "metadata": {
        "id": "AT1kqaS3m9Yr"
      },
      "execution_count": null,
      "outputs": []
    },
    {
      "cell_type": "code",
      "source": [
        "# Defining the Gumble function\n",
        "def Gumbel(sample):\n",
        "    \"\"\" Gumbel distribution funcrion :\n",
        "    Parameters:\n",
        "    sample : array_like\n",
        "    1D array_like with the extreme values to be considered\n",
        "    Returns:\n",
        "    location-parameter : float \n",
        "    scale-paramete : float \n",
        "    q100 : float\n",
        "    \"\"\"\n",
        "\n",
        "    model=ske.models.classic.Gumbel(sample , fit_method='mle' , ci=0.05 , ci_method='delta')\n",
        "    q100=model.ppf(0.99)\n",
        "    #model.plot_summary()\n",
        "\n",
        "    return  q100\n"
      ],
      "metadata": {
        "id": "y_5Y5h3fo_rN"
      },
      "execution_count": null,
      "outputs": []
    },
    {
      "cell_type": "code",
      "source": [
        "# Applying the gumble function for each simulated cell to compute 100-year flood\n",
        "river_mask['q100(m^3/s)']=river_mask.apply( lambda x : Gumbel(x) , axis=1 )\n"
      ],
      "metadata": {
        "id": "CqkAItgypBUo"
      },
      "execution_count": null,
      "outputs": []
    },
    {
      "cell_type": "code",
      "source": [
        "# Changing the column names to the representing years\n",
        "for i in range(0,len(river_mask.columns.values)-1) :\n",
        "    pd.to_datetime(river_mask.columns.values[i])\n",
        "    river_mask.columns.values[i]=river_mask.columns.values[i].year\n",
        "\n",
        "# Saving the output in csv format\n",
        "river_mask.to_csv('/content/drive/MyDrive/Annual-Maxima-discharges-rescale.csv')\n"
      ],
      "metadata": {
        "id": "z7KoRKUsc5J5"
      },
      "execution_count": null,
      "outputs": []
    }
  ]
}